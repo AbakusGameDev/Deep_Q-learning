{
 "cells": [
  {
   "cell_type": "markdown",
   "metadata": {},
   "source": [
    "# Deep Q-learning with Taxi-v2\n",
    "In this tutorial we will implement the Q-learning algorithm to play Taxi-v2.\n",
    "\n",
    "## Requirement\n",
    "Run the following command to setup the required libraries\n",
    "* `pip install numpy gym`"
   ]
  },
  {
   "cell_type": "code",
   "execution_count": 1,
   "metadata": {
    "collapsed": true
   },
   "outputs": [],
   "source": [
    "import gym\n",
    "import numpy as np\n",
    "from IPython.display import clear_output"
   ]
  },
  {
   "cell_type": "markdown",
   "metadata": {},
   "source": [
    "## Load the Game"
   ]
  },
  {
   "cell_type": "code",
   "execution_count": 2,
   "metadata": {
    "collapsed": false
   },
   "outputs": [
    {
     "name": "stdout",
     "output_type": "stream",
     "text": [
      "Action Space: 6\n",
      "State Space: 500\n"
     ]
    }
   ],
   "source": [
    "# Create the Taxi-v2 environment\n",
    "env = gym.make(\"Taxi-v2\")\n",
    "action_space = env.action_space.n\n",
    "state_space  = env.observation_space.n\n",
    "print(\"Action Space:\", action_space)\n",
    "print(\"State Space:\", state_space)"
   ]
  },
  {
   "cell_type": "code",
   "execution_count": 3,
   "metadata": {
    "collapsed": false
   },
   "outputs": [
    {
     "name": "stdout",
     "output_type": "stream",
     "text": [
      "+---------+\n",
      "|R: | :\u001b[43m \u001b[0m:\u001b[34;1mG\u001b[0m|\n",
      "| : : : : |\n",
      "| : : : : |\n",
      "| | : | : |\n",
      "|\u001b[35mY\u001b[0m| : |B: |\n",
      "+---------+\n",
      "\n"
     ]
    }
   ],
   "source": [
    "# Render an example frame of the game\n",
    "env.render()"
   ]
  },
  {
   "cell_type": "markdown",
   "metadata": {},
   "source": [
    "# Q-learning algorithm\n",
    "\n",
    "Let's implement the Q-learning algorithm now.\n",
    "\n",
    "Here is the psuedo-code:\n",
    "\n",
    "<img src=\"figures/Q_learning_algorithm.png\" style=\"width: 700px;\"/>\n",
    "\n",
    "Here is a breakdown of the Q-table update part of the algorithm:\n",
    "\n",
    "<img src=\"figures/Q_learning_bellman.png\" style=\"width: 700px;\"/>\n"
   ]
  },
  {
   "cell_type": "code",
   "execution_count": 5,
   "metadata": {
    "collapsed": false
   },
   "outputs": [
    {
     "name": "stdout",
     "output_type": "stream",
     "text": [
      "-- Episode 49999/50000 --\n",
      "Epsilon: 2.0000000000020002e-05\n",
      "Total reward: 12\n"
     ]
    }
   ],
   "source": [
    "# Initialize Q-table with zeros\n",
    "Q_table = np.zeros((state_space, action_space)) # Q(s, a)\n",
    "\n",
    "num_episodes  = 50000 # Number of episodes to run\n",
    "num_steps     = 100   # Number of steps per episode\n",
    "discount_rate = 0.95  # Discount rate\n",
    "learning_rate = 0.1   # Learning rate\n",
    "\n",
    "# For every episode\n",
    "total_reward = float(\"nan\")\n",
    "for episode in range(num_episodes):\n",
    "    # Set exploration rate to go from 0 to 1 over time\n",
    "    epsilon = 1 - episode / num_episodes\n",
    "    \n",
    "    # Print info\n",
    "    clear_output(wait=True)\n",
    "    print(\"-- Episode {}/{} --\".format(episode+1, num_episodes))\n",
    "    print(\"Epsilon:\", epsilon)\n",
    "    print(\"Total reward:\", total_reward)\n",
    "    \n",
    "    # Reset environment and get initial state\n",
    "    state = env.reset()\n",
    "    \n",
    "    # For every step\n",
    "    total_reward = 0\n",
    "    for step in range(num_steps):\n",
    "        \n",
    "        # Pick action at random at a epsilon-random rate\n",
    "        if np.random.rand() > epsilon:\n",
    "            action = np.argmax(Q_table[state, :])\n",
    "        else:\n",
    "            action = np.random.randint(action_space)\n",
    "\n",
    "        # Step in the environment\n",
    "        new_state, reward, done, info = env.step(action)\n",
    "        total_reward += reward\n",
    "\n",
    "        # Q(s, a) <- Q(s, a) + alpha * [r + gamma * max_a' Q(s', a') - Q(s, a)]\n",
    "        Q_current = Q_table[state, action]\n",
    "        Q_table[state, action] = Q_current + learning_rate * (reward + discount_rate * np.max(Q_table[new_state, :]) - Q_current)\n",
    "        \n",
    "        # Set next state\n",
    "        state = new_state\n",
    "        \n",
    "        # Break when done\n",
    "        if done:\n",
    "            break"
   ]
  },
  {
   "cell_type": "markdown",
   "metadata": {},
   "source": [
    "# Visualize an Example Run"
   ]
  },
  {
   "cell_type": "code",
   "execution_count": 6,
   "metadata": {
    "collapsed": false
   },
   "outputs": [
    {
     "name": "stdout",
     "output_type": "stream",
     "text": [
      "+---------+\n",
      "|\u001b[35mR\u001b[0m: | : :\u001b[34;1mG\u001b[0m|\n",
      "| : : : :\u001b[43m \u001b[0m|\n",
      "| : : : : |\n",
      "| | : | : |\n",
      "|Y| : |B: |\n",
      "+---------+\n",
      "\n",
      "+---------+\n",
      "|\u001b[35mR\u001b[0m: | : :\u001b[34;1m\u001b[43mG\u001b[0m\u001b[0m|\n",
      "| : : : : |\n",
      "| : : : : |\n",
      "| | : | : |\n",
      "|Y| : |B: |\n",
      "+---------+\n",
      "  (North)\n",
      "+---------+\n",
      "|\u001b[35mR\u001b[0m: | : :\u001b[42mG\u001b[0m|\n",
      "| : : : : |\n",
      "| : : : : |\n",
      "| | : | : |\n",
      "|Y| : |B: |\n",
      "+---------+\n",
      "  (Pickup)\n",
      "+---------+\n",
      "|\u001b[35mR\u001b[0m: | :\u001b[42m_\u001b[0m:G|\n",
      "| : : : : |\n",
      "| : : : : |\n",
      "| | : | : |\n",
      "|Y| : |B: |\n",
      "+---------+\n",
      "  (West)\n",
      "+---------+\n",
      "|\u001b[35mR\u001b[0m: | : :G|\n",
      "| : : :\u001b[42m_\u001b[0m: |\n",
      "| : : : : |\n",
      "| | : | : |\n",
      "|Y| : |B: |\n",
      "+---------+\n",
      "  (South)\n",
      "+---------+\n",
      "|\u001b[35mR\u001b[0m: | : :G|\n",
      "| : :\u001b[42m_\u001b[0m: : |\n",
      "| : : : : |\n",
      "| | : | : |\n",
      "|Y| : |B: |\n",
      "+---------+\n",
      "  (West)\n",
      "+---------+\n",
      "|\u001b[35mR\u001b[0m: | : :G|\n",
      "| :\u001b[42m_\u001b[0m: : : |\n",
      "| : : : : |\n",
      "| | : | : |\n",
      "|Y| : |B: |\n",
      "+---------+\n",
      "  (West)\n",
      "+---------+\n",
      "|\u001b[35mR\u001b[0m:\u001b[42m_\u001b[0m| : :G|\n",
      "| : : : : |\n",
      "| : : : : |\n",
      "| | : | : |\n",
      "|Y| : |B: |\n",
      "+---------+\n",
      "  (North)\n",
      "+---------+\n",
      "|\u001b[35m\u001b[42mR\u001b[0m\u001b[0m: | : :G|\n",
      "| : : : : |\n",
      "| : : : : |\n",
      "| | : | : |\n",
      "|Y| : |B: |\n",
      "+---------+\n",
      "  (West)\n",
      "Success!\n"
     ]
    }
   ],
   "source": [
    "state = env.reset()\n",
    "for step in range(num_steps):\n",
    "    env.render()\n",
    "    action = np.argmax(Q_table[state, :])\n",
    "    new_state, reward, done, info = env.step(action)\n",
    "    state = new_state\n",
    "    if done:\n",
    "        print(\"Success!\")\n",
    "        break"
   ]
  }
 ],
 "metadata": {
  "kernelspec": {
   "display_name": "Python 3",
   "language": "python",
   "name": "python3"
  },
  "language_info": {
   "codemirror_mode": {
    "name": "ipython",
    "version": 3
   },
   "file_extension": ".py",
   "mimetype": "text/x-python",
   "name": "python",
   "nbconvert_exporter": "python",
   "pygments_lexer": "ipython3",
   "version": "3.6.5"
  }
 },
 "nbformat": 4,
 "nbformat_minor": 2
}
