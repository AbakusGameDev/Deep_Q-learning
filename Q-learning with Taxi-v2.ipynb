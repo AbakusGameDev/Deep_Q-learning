{
 "cells": [
  {
   "cell_type": "markdown",
   "metadata": {},
   "source": [
    "# Deep Q-learning with Taxi-v2\n",
    "In this tutorial we will implement the Q-learning algorithm to play Taxi-v2.\n",
    "\n",
    "## Requirement\n",
    "Run the following command to setup the required libraries\n",
    "* `pip install numpy gym`"
   ]
  },
  {
   "cell_type": "code",
   "execution_count": null,
   "metadata": {
    "collapsed": true
   },
   "outputs": [],
   "source": [
    "import gym\n",
    "import numpy as np\n",
    "from IPython.display import clear_output"
   ]
  },
  {
   "cell_type": "markdown",
   "metadata": {},
   "source": [
    "## Load the Game"
   ]
  },
  {
   "cell_type": "code",
   "execution_count": null,
   "metadata": {
    "collapsed": false
   },
   "outputs": [],
   "source": [
    "# Create the Taxi-v2 environment\n",
    "env = gym.make(\"Taxi-v2\")\n",
    "action_space = env.action_space.n\n",
    "state_space  = env.observation_space.n\n",
    "print(\"Action Space:\", action_space)\n",
    "print(\"State Space:\", state_space)"
   ]
  },
  {
   "cell_type": "code",
   "execution_count": null,
   "metadata": {
    "collapsed": false
   },
   "outputs": [],
   "source": [
    "# Render an example frame of the game\n",
    "env.render()"
   ]
  },
  {
   "cell_type": "markdown",
   "metadata": {},
   "source": [
    "# Q-learning algorithm\n",
    "\n",
    "Let's implement the Q-learning algorithm now.\n",
    "\n",
    "Here is the psuedo-code:\n",
    "\n",
    "<img src=\"figures/Q_learning_algorithm.png\" style=\"width: 700px;\"/>\n",
    "\n",
    "Here is a breakdown of the Q-table update part of the algorithm:\n",
    "\n",
    "<img src=\"figures/Q_learning_bellman.png\" style=\"width: 700px;\"/>\n",
    "\n",
    "Here are some useful functions:\n",
    "* `np.zeros((h, w))`\n",
    "  * Create a 2D matrix with dimensions (h, w)\n",
    "* `np.argmax(v)`\n",
    "  * Return the index of the largest value in v\n",
    "* `np.max(v)`\n",
    "  * Returns the largest value in v\n",
    "* `np.random.randint(n)`\n",
    "  * Returns a random integer from [0, n)\n",
    "* `env.reset()`\n",
    "  * Reset the environment. Returns the initial state\n",
    "* `env.step(a)`\n",
    "  * Take action a"
   ]
  },
  {
   "cell_type": "code",
   "execution_count": null,
   "metadata": {
    "collapsed": false
   },
   "outputs": [],
   "source": [
    "# Predefined parameters\n",
    "num_episodes  = 50000 # Number of episodes to run\n",
    "num_steps     = 100   # Number of steps per episode\n",
    "discount_rate = 0.95  # Discount rate\n",
    "learning_rate = 0.1   # Learning rate\n",
    "\n",
    "# TODO: Implement Q-learning here"
   ]
  },
  {
   "cell_type": "markdown",
   "metadata": {},
   "source": [
    "# Visualize an Example Run"
   ]
  },
  {
   "cell_type": "code",
   "execution_count": null,
   "metadata": {
    "collapsed": false
   },
   "outputs": [],
   "source": [
    "state = env.reset()\n",
    "for step in range(num_steps):\n",
    "    env.render()\n",
    "    action = np.argmax(Q_table[state, :])\n",
    "    new_state, reward, done, info = env.step(action)\n",
    "    state = new_state\n",
    "    if done:\n",
    "        print(\"Success!\")\n",
    "        break"
   ]
  }
 ],
 "metadata": {
  "kernelspec": {
   "display_name": "Python 3",
   "language": "python",
   "name": "python3"
  },
  "language_info": {
   "codemirror_mode": {
    "name": "ipython",
    "version": 3
   },
   "file_extension": ".py",
   "mimetype": "text/x-python",
   "name": "python",
   "nbconvert_exporter": "python",
   "pygments_lexer": "ipython3",
   "version": "3.6.5"
  }
 },
 "nbformat": 4,
 "nbformat_minor": 2
}
